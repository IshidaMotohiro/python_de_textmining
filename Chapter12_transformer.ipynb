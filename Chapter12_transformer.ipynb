{
 "cells": [
  {
   "cell_type": "markdown",
   "id": "45e7ac30-4093-4421-a3e6-b3982d1400bd",
   "metadata": {},
   "source": [
    "#  huggingface-transformers(BERT)\n",
    "\n",
    "本書の最後に、最近の自然言語処理技術を利用するためのフレームワークである Transformer を紹介します。また、Transformer で利用する言語モデルとして BERT を取り上げます。\n",
    "\n",
    "**なお、本書のp.24で説明した通り、requirements.txt を利用してインストールすると、必要なパッケージはすでに導入されています。\n",
    "requirements.txt を利用せずにインストールする場合は `!pip install` コマンドを使って個別にインストールすることになります。その場合、バージョン指定をしなければ、最新のライブラリがインストールされます。特に transformers は仕様が変わっている可能性があるため、本書の記載どおりでは動作しないコードがあるかもしれません。筆者側で補足できた範囲で、このGitHub レポジトリでサポートしていきます。**\n",
    "\n",
    "## ディープラーニングと自然言語処理\n",
    "\n",
    "\n",
    "以下、本書の最後に、huggingface-transoformers （ BERT）を利用したテキスト処理の技法を紹介しましょう（GiNZA を紹介した章で述べたように、GiNZA で Transformer にもとづく学習モデルを読み込むという方法もあります）。\n",
    "\n",
    "ところで、ディープラーニングは計算量が多いため、標準的なパソコンでは処理に非常に時間がかかることがあります。そこでパソコンにグラフィックボードという画像処理のハードウェア(**GPU**)を追加することで、処理の多くをGPUに分散させ、負荷の軽減と高速化をはかることができます。\n",
    "\n",
    "\n",
    "とはいえ、GPUの導入とドライバのインストールは簡単ではありません。\n",
    "幸い、自身のパソコンにGPUがない場合でも、 huggingface-transformers を試す方法があります。Google Collabaratory [^gcollab] という無償のWEBサービスを使うことです（以下 Colab と表記します）。Colab は、ここまで利用してきた Jupyter (Jupyter Labo) とほぼ同じ感覚で利用することができます。\n",
    "\n",
    "\n",
    "Google Coraboratory での作業方法については、巻末の付録の付録にも記していますが、ここでも改めて解説いたします。\n",
    "\n",
    "\n",
    "\n",
    "```\n",
    "## Google Colaboratory における Mecabのインストール\n",
    "!apt install mecab libmecab-dev mecab-ipadic-utf8\n",
    "!pip install mecab-python3\n",
    "!pip install fugashi ipadic\n",
    "!pip install torch\n",
    "```\n",
    "\n",
    "\n",
    "`!pip install transformers==4.12.0`\n",
    "\n",
    "なお、Colabではなく自身のマシンで実行する場合は torch (PyTorch) もインストールしてください。\n",
    "筆者が Colab 上で作業したファイルを Google Colab に公開していますので、その URL をサポートサイトで確認してください。\n",
    "\n",
    "<https://colab.research.google.com/drive/1E13hvgiCmh_eZtvnnZHh59s3_FTR4I9J>\n",
    "\n",
    "\n",
    "このノートブックを自身のドライブにコピーした上で、試してみて下さい。\n",
    "\n",
    "\n",
    "## transformers によるトークン化\n",
    "\n",
    "transformers で日本語を扱うには、日本語トークンにもとづく事前学習モデルを導入する必要があります。\n",
    "\n",
    "transformers では東北大学の自然言語処理研究室が開発したモデルを利用することできます。このモデルは、日本語ウキペディアをデータとして学習されたモデルになります。ここでは'bert-base-japanese-whole-word-masking'を利用しますが、2021年により大きなモデル 'bert-large-japanese'が公開されています。ただし、大きなモデルを使う場合、GPU のメモリが足りず、RuntimeError: CUDA error: out of memory というエラーで作業が進まなくなることがあるので、注意してください。\n",
    "\n",
    "なお `AutoTokenizer` モジュールは、指定されたモデルのトークナイザーに適切な設定を行ってくれます。\n"
   ]
  },
  {
   "cell_type": "code",
   "execution_count": 1,
   "id": "a9098843-2c29-44d6-b3ce-de76d77a0f32",
   "metadata": {},
   "outputs": [
    {
     "name": "stdout",
     "output_type": "stream",
     "text": [
      "[5233, 5, 1757, 1882, 2762, 5, 5770, 9, 14872, 422, 1581, 75, 8]\n",
      "['最近', 'の', '自然', '言語', '処理', 'の', '主流', 'は', 'ディープ', '##ラー', '##ニング', 'だ', '。']\n"
     ]
    }
   ],
   "source": [
    "import torch\n",
    "from transformers import AutoTokenizer\n",
    "## ここでは'bert-base-japanese-whole-word-masking'を利用しますが、2021年により大きなモデル 'bert-large-japanese'が公開されています。\n",
    "## ただし、大きなモデルを使う場合、GPU のメモリが足りず、RuntimeError: CUDA error: out of memory \n",
    "## というエラーで作業が進まなくなることがあるので、注意してください。\n",
    "japanese_model = ('cl-tohoku/bert-base-japanese-whole-word-masking')\n",
    "# \n",
    "tokenizer = AutoTokenizer.from_pretrained(japanese_model)\n",
    "res = tokenizer.tokenize('最近の自然言語処理の主流はディープラーニングだ。')\n",
    "# print(res)\n",
    "ids = tokenizer.convert_tokens_to_ids(res)\n",
    "tokens = tokenizer.convert_ids_to_tokens(ids)\n",
    "## 単語IDを確認\n",
    "print(ids)\n",
    "## 対応するトークン（形態素、文字など）を確認\n",
    "print(tokens)"
   ]
  },
  {
   "cell_type": "markdown",
   "id": "f13e50df-e237-4dd3-8adf-f7ae919e52a2",
   "metadata": {},
   "source": [
    "\n",
    "## 単語ID\n",
    "\n",
    "トークン化について説明しましたが、単語はそのままで処理されるわけではありません。内部でトークンには一意のID（番号）が割り当てられ、それが入力となります。"
   ]
  },
  {
   "cell_type": "code",
   "execution_count": 2,
   "id": "74466244-bd1e-4f05-a353-e78de7dcd3f8",
   "metadata": {},
   "outputs": [
    {
     "name": "stdout",
     "output_type": "stream",
     "text": [
      "{'input_ids': [2, 306, 9, 26724, 11, 2949, 10, 8, 3], 'token_type_ids': [0, 0, 0, 0, 0, 0, 0, 0, 0], 'attention_mask': [1, 1, 1, 1, 1, 1, 1, 1, 1]}\n"
     ]
    }
   ],
   "source": [
    "print(tokenizer('彼は蕎麦を食べた。'))"
   ]
  },
  {
   "cell_type": "markdown",
   "id": "98e4ac4a-8efa-452d-ba8f-ea86b39ecfac",
   "metadata": {},
   "source": [
    "## トークン穴埋め問題\n",
    "\n",
    "\n",
    "transformers を使って文章をトークンに分割できるようになりました。次に、分割した結果を言語モデルに適用してみましょう。\n",
    "transformers では、空白を推定するタスクを行うのに **AutoModelForMaskedLM** クラスに、言語ごとに用意されたモデルをアタッチします。以前は言語モデルごとにクラス名が異なってました。\n",
    "たとえば、BERT 日本語モデルを指定するという意味で、BertForMaskedLM クラスで日本語モデルを読み込んでいました。\n"
   ]
  },
  {
   "cell_type": "code",
   "execution_count": null,
   "id": "b1fc52fd-cbfa-40d4-858d-fde4a2316518",
   "metadata": {},
   "outputs": [],
   "source": [
    "from transformers import AutoConfig, AutoModelForMaskedLM\n",
    "masked_model = AutoModelForMaskedLM.from_pretrained(japanese_model)\n",
    "## GPUを搭載しているのであれば、GPUのメモリを使う\n",
    "masked_model = masked_model.cuda()"
   ]
  },
  {
   "cell_type": "code",
   "execution_count": 4,
   "id": "da15cdfa-3a37-4a7b-be7a-86b54b68e38b",
   "metadata": {},
   "outputs": [
    {
     "name": "stdout",
     "output_type": "stream",
     "text": [
      "['今日', 'は', '[MASK]', 'で', '勉強', 'し', 'た', '。']\n"
     ]
    }
   ],
   "source": [
    "text = '今日は[MASK]で勉強した。'\n",
    "tokens = tokenizer.tokenize(text)\n",
    "print(tokens)"
   ]
  },
  {
   "cell_type": "markdown",
   "id": "689501f9-f55e-4e2a-964a-9c4ea03ee49c",
   "metadata": {},
   "source": [
    "\n",
    "トークン列を符号化して、モデルへの入力とします。"
   ]
  },
  {
   "cell_type": "code",
   "execution_count": 5,
   "id": "806d5eff-b591-4627-a665-138a4aedf672",
   "metadata": {},
   "outputs": [],
   "source": [
    "encoded_text = tokenizer.encode(text, return_tensors='pt')\n",
    "encoded_text = encoded_text.cuda()\n",
    "with torch.no_grad():\n",
    "    output = masked_model(input_ids=encoded_text)\n",
    "    scores = output.logits"
   ]
  },
  {
   "cell_type": "markdown",
   "id": "96e63bfa-6584-457a-b1eb-f97c7858331a",
   "metadata": {},
   "source": [
    "出力の `scores` は 3 次元の配列になっています。"
   ]
  },
  {
   "cell_type": "code",
   "execution_count": 6,
   "id": "f4f73e93-41fb-409b-9870-9966c1c3215e",
   "metadata": {},
   "outputs": [
    {
     "name": "stdout",
     "output_type": "stream",
     "text": [
      "socresのサイズ：torch.Size([1, 10, 32000])\n"
     ]
    }
   ],
   "source": [
    "print(f'socresのサイズ：{scores.size()}')"
   ]
  },
  {
   "cell_type": "code",
   "execution_count": 7,
   "id": "a3720dd3-b66d-42df-a709-1065eae4e4f3",
   "metadata": {},
   "outputs": [
    {
     "name": "stdout",
     "output_type": "stream",
     "text": [
      "各トークンのID：[2, 3246, 9, 4, 12, 8192, 15, 10, 8, 3]\n"
     ]
    }
   ],
   "source": [
    "print(f'各トークンのID：{encoded_text[0].tolist()}')"
   ]
  },
  {
   "cell_type": "code",
   "execution_count": 8,
   "id": "d6fab21e-6619-46c7-b16d-090780562ab9",
   "metadata": {},
   "outputs": [
    {
     "name": "stdout",
     "output_type": "stream",
     "text": [
      "ID＝396\n",
      "トークン=大学\n"
     ]
    }
   ],
   "source": [
    "mask_position = encoded_text[0].tolist().index(4)\n",
    "best_id = scores[0, mask_position].argmax(-1).item()\n",
    "print(f'ID＝{best_id}')\n",
    "best_token = tokenizer.convert_ids_to_tokens(best_id)\n",
    "print(f'トークン={best_token}')"
   ]
  },
  {
   "cell_type": "code",
   "execution_count": 9,
   "id": "a7b07690-5ce9-4152-94b4-62b31fb92539",
   "metadata": {},
   "outputs": [
    {
     "name": "stdout",
     "output_type": "stream",
     "text": [
      "tensor([  396,  1411,  1724,   286, 18949,  1221,  4441,   723,  2184,  1193],\n",
      "       device='cuda:0')\n",
      "['大学', 'ここ', 'ニューヨーク', 'アメリカ', 'コロンビア大学', 'そこ', 'ロサンゼルス', 'イギリス', 'パリ', '高校']\n"
     ]
    }
   ],
   "source": [
    "topK = scores[0, mask_position].topk(10)\n",
    "print(topK.indices)\n",
    "tokens  = tokenizer.convert_ids_to_tokens(topK.indices)\n",
    "print(tokens)"
   ]
  },
  {
   "cell_type": "markdown",
   "id": "fbfe5bbe-9351-4f20-ac32-f2f756622e59",
   "metadata": {},
   "source": [
    "### pipeline\n",
    "\n",
    "huggingface-transformers には自然言語処理でよく行われる処理について、学修済みモデルを簡単に適用できる **pipeline** という仕組みがあります[^pipeline]。以下に一例をあげます。\n",
    "\n",
    "\n",
    "- 文章穴埋め ('fill-mask')\n",
    "- 感情分析 ('sentiment-analysis')\n",
    "- テキスト分類 ('text-classification')\n",
    "- 固有表現抽出 ('ner')\n",
    "- 質問応答 ('question-answeri')\n",
    "- 文章要約 ('summarization')\n",
    "- 翻訳 ('translation')\n",
    "\n",
    "[^pipeline]: https://huggingface.co/docs/transformers/main_classes/pipelines\n"
   ]
  },
  {
   "cell_type": "code",
   "execution_count": null,
   "id": "f3d15707-7848-41ef-aba1-3fff877e1600",
   "metadata": {},
   "outputs": [],
   "source": [
    "from transformers import pipeline\n",
    "unmasker = pipeline('fill-mask', model=japanese_model, tokenizer=tokenizer)\n",
    "print(unmasker('今日は[MASK]で勉強した。'))"
   ]
  },
  {
   "cell_type": "markdown",
   "id": "226b4875-7854-400e-b544-dc4816e5c2d2",
   "metadata": {},
   "source": [
    "## huggingface transformers によるテキスト分類\n",
    "\n",
    "このタスクのクラス名は **AutoModelForSequenceClassification** となります。\n",
    "ここでジャンル判定の応用として、文章の内容がネガティブなのかポジティブなのか判定する **センチメント分析** を試してみましょう。\n"
   ]
  },
  {
   "cell_type": "code",
   "execution_count": 11,
   "id": "7f0ea16c-718d-4e8c-b672-bb11cb59c7e9",
   "metadata": {},
   "outputs": [
    {
     "name": "stdout",
     "output_type": "stream",
     "text": [
      "[{'label': 'ネガティブ', 'score': 0.7547963261604309}]\n"
     ]
    }
   ],
   "source": [
    "from transformers import AutoModelForSequenceClassification, pipeline\n",
    "## 日本語感情分析用のモデルをロードする\n",
    "sentiment_model = AutoModelForSequenceClassification.from_pretrained ('daigo/bert-base-japanese-sentiment')\n",
    "sentiment_analyzer = pipeline(\"sentiment-analysis\", model=sentiment_model, tokenizer=tokenizer)\n",
    "print(sentiment_analyzer('ロシアとウクライナの戦争はまだ終わらない。'))"
   ]
  },
  {
   "cell_type": "markdown",
   "id": "cfd20acc-7347-4963-9c72-f8ebc24eb33c",
   "metadata": {},
   "source": [
    "\n",
    "ここではテキストをジャンルごとに分類を行うための学習済みモデルを、新たに用意したテキストデータセットでファインチューニングする方法を紹介しましょう\n",
    "\n",
    "\n",
    "\n",
    "まず分析対象とするテキストデータセットを用意します。ここでは、自然言語処理でベンチマークとしてよく利用される Livedoor ニュースコーパスを利用させてもらいます[^livedoor]。\n",
    "株式会社ロンウイットのサイトから ldcc-20140209.tar.gz というファイルをダウンロードします。\n",
    "\n",
    "[^livedoor]: https://www.rondhuit.com/download.html#ldcc\n",
    "\n",
    "以下では Python の関数を使ってダウンロードと解凍を行っています。"
   ]
  },
  {
   "cell_type": "code",
   "execution_count": 12,
   "id": "9a953f4c-6ce3-49e5-8d45-6beb2ce0d1aa",
   "metadata": {},
   "outputs": [],
   "source": [
    "## データセットのダウンロード\n",
    "# !wget https://www.rondhuit.com/download/ldcc-20140209.tar.gz\n",
    "# !tar xvzf ldcc-20140209.tar.gz\n",
    "from urllib import request\n",
    "request.urlretrieve(\"https://www.rondhuit.com/download/ldcc-20140209.tar.gz\", \"ldcc-20140209.tar.gz\")\n",
    "## 解凍\n",
    "import tarfile\n",
    "with tarfile.open('ldcc-20140209.tar.gz', 'r:gz') as t:\n",
    "    t.extractall(path='.')"
   ]
  },
  {
   "cell_type": "markdown",
   "id": "cea38a0c-ef82-426a-9350-cf56d6f52f3e",
   "metadata": {},
   "source": [
    "なお、Google Colaboratory を利用している場合は、保存用のフォルダ（ディレクトリ）を用意します。\n"
   ]
  },
  {
   "cell_type": "code",
   "execution_count": null,
   "id": "e8bc7091-d200-479f-baa2-0a4907eb37ce",
   "metadata": {},
   "outputs": [],
   "source": [
    "## Google Colaboratory で作業する場合\n",
    "from google.colab import drive \n",
    "drive.mount('/content/drive')\n",
    "!mkdir -p /content/drive/MyDrive\n",
    "## 作業フォルダを移動\n",
    "%cd /content/drive/MyDrive\n",
    "!pwd"
   ]
  },
  {
   "cell_type": "code",
   "execution_count": null,
   "id": "2e7dda31-5f86-4c55-85fa-aa5d9e8bd1ed",
   "metadata": {},
   "outputs": [],
   "source": [
    "import os\n",
    "print(os.getcwd())"
   ]
  },
  {
   "cell_type": "markdown",
   "id": "2a39d9a3-eed5-48d3-b6e9-1e15fcaee1b7",
   "metadata": {},
   "source": [
    "作業フォルダ text には 10 個のサブフォルダが含まれています。サブフォルダ名を確認してみましょう。"
   ]
  },
  {
   "cell_type": "code",
   "execution_count": 15,
   "id": "d1fbe25c-6e45-408e-b1a8-0cb0fbc28816",
   "metadata": {},
   "outputs": [
    {
     "name": "stdout",
     "output_type": "stream",
     "text": [
      "['smax', 'kaden-channel', 'it-life-hack', 'dokujo-tsushin', 'livedoor-homme', 'sports-watch', 'movie-enter', 'peachy', 'topic-news']\n"
     ]
    }
   ],
   "source": [
    "## サブフォルダを確認\n",
    "#categories = [name for name in os.listdir(\"../livedoor/text\") if os.path.isdir(\"../livedoor/text/\" + name)]\n",
    "# print(categories)"
   ]
  },
  {
   "cell_type": "code",
   "execution_count": 16,
   "id": "ccd79d9f-5f0a-4fe3-917f-e8b0328c1136",
   "metadata": {},
   "outputs": [
    {
     "name": "stdout",
     "output_type": "stream",
     "text": [
      "['smax', 'kaden-channel', 'it-life-hack', 'dokujo-tsushin', 'livedoor-homme', 'sports-watch', 'movie-enter', 'peachy', 'topic-news']\n"
     ]
    }
   ],
   "source": [
    "import os \n",
    "categories = [name for name in os.listdir(\"text\") if os.path.isdir(\"text/\" + name)]\n",
    "print(categories)"
   ]
  },
  {
   "cell_type": "markdown",
   "id": "58153313-66ba-4fbe-a11f-cf401643ae01",
   "metadata": {},
   "source": [
    "Livedoor ファイルには 10 種類のジャンルのファイルがあります。"
   ]
  },
  {
   "cell_type": "code",
   "execution_count": null,
   "id": "65d16090-73e2-4604-9629-c7c094241760",
   "metadata": {},
   "outputs": [],
   "source": [
    "from glob import glob\n",
    "import pandas as pd\n",
    "categories = ['it-life-hack', 'dokujo-tsushin'] \n",
    "datasets = pd.DataFrame(columns=[\"sentences\", \"labels\"])\n",
    "for label, cat in enumerate(categories):\n",
    "    for file in glob(f'text/{cat}/{cat}*'):# for file in glob(f'../livedoor/text/{cat}/{cat}*'):\n",
    "        ## Google Colaboratory の場合は file in glob(f'text/{cat}/{cat}*'): と変更\n",
    "        lines = open(file).read().splitlines()\n",
    "        body = '\\n'.join(lines[3:])\n",
    "        sentences = pd.Series([body, cat], index=datasets.columns)\n",
    "        datasets = datasets.append(sentences, ignore_index=True)\n",
    "\n",
    "datasets.head()"
   ]
  },
  {
   "cell_type": "markdown",
   "id": "9006bd0a-c357-449d-ab0a-5e2c48f6d250",
   "metadata": {},
   "source": [
    "テキストのジャンルを表す文字列を数値に変えます。it-life-hack には 0 を、dokujo-tsushin には 1 を対応させます。この対応を辞書として用意し `map()` で lables 列に一括適用します。"
   ]
  },
  {
   "cell_type": "code",
   "execution_count": 19,
   "id": "f7a93090-e8ad-4549-9723-4ca6c219dd6c",
   "metadata": {},
   "outputs": [
    {
     "name": "stdout",
     "output_type": "stream",
     "text": [
      "{'it-life-hack': 0, 'dokujo-tsushin': 1}\n"
     ]
    }
   ],
   "source": [
    "cat_id = dict(zip(categories, list(range(len(categories)))))\n",
    "print(cat_id)\n",
    "datasets['labels'] = datasets['labels'].map(cat_id) "
   ]
  },
  {
   "cell_type": "code",
   "execution_count": 20,
   "id": "7d4ae1f3-f846-4af5-a8c1-09b603881026",
   "metadata": {},
   "outputs": [
    {
     "name": "stdout",
     "output_type": "stream",
     "text": [
      "0       0\n",
      "1       0\n",
      "2       0\n",
      "3       0\n",
      "4       0\n",
      "       ..\n",
      "1735    1\n",
      "1736    1\n",
      "1737    1\n",
      "1738    1\n",
      "1739    1\n",
      "Name: labels, Length: 1740, dtype: int64\n"
     ]
    }
   ],
   "source": [
    "print(datasets['labels'])"
   ]
  },
  {
   "cell_type": "markdown",
   "id": "63d2313f-e446-491e-86cf-36c27703ddf7",
   "metadata": {},
   "source": [
    "さて、transformers を使ってトークンに分割します。"
   ]
  },
  {
   "cell_type": "code",
   "execution_count": 21,
   "id": "7e29aab1-fec2-40ff-b074-fd133dee039b",
   "metadata": {},
   "outputs": [],
   "source": [
    "import torch\n",
    "from transformers import AutoTokenizer\n",
    "japanese_model = 'cl-tohoku/bert-base-japanese-whole-word-masking'# 'cl-tohoku/bert-large-japanese' # '\n",
    "tokenizer = AutoTokenizer.from_pretrained(japanese_model)"
   ]
  },
  {
   "cell_type": "markdown",
   "id": "a6266c12-02fa-4e6f-92f3-840d74eae591",
   "metadata": {},
   "source": [
    "ここで用意したデータフレームを、訓練用とテスト用に分割します。"
   ]
  },
  {
   "cell_type": "code",
   "execution_count": 22,
   "id": "bafa925e-93cc-40fa-be98-2a5e9d4b93a7",
   "metadata": {},
   "outputs": [],
   "source": [
    "import random\n",
    "random.seed(0)\n",
    "## ラベル別にindexを取得\n",
    "label0 = datasets.query('labels==0').index\n",
    "label1 = datasets.query('labels==1').index\n",
    "## それぞれから500行を取り出して訓練データとする\n",
    "rnd0 = random.sample(list(label0), 500)\n",
    "rnd1 = random.sample(list(label1), 500)\n",
    "idx = rnd0 + rnd1\n",
    "train_data = datasets.iloc[idx]\n",
    "## 残りをテストデータとする\n",
    "test_data = datasets.drop(index=idx)"
   ]
  },
  {
   "cell_type": "code",
   "execution_count": 23,
   "id": "9a536376-ced4-413e-b73b-531a34e82565",
   "metadata": {},
   "outputs": [
    {
     "data": {
      "text/html": [
       "<div>\n",
       "<style scoped>\n",
       "    .dataframe tbody tr th:only-of-type {\n",
       "        vertical-align: middle;\n",
       "    }\n",
       "\n",
       "    .dataframe tbody tr th {\n",
       "        vertical-align: top;\n",
       "    }\n",
       "\n",
       "    .dataframe thead th {\n",
       "        text-align: right;\n",
       "    }\n",
       "</style>\n",
       "<table border=\"1\" class=\"dataframe\">\n",
       "  <thead>\n",
       "    <tr style=\"text-align: right;\">\n",
       "      <th></th>\n",
       "      <th>sentences</th>\n",
       "      <th>labels</th>\n",
       "    </tr>\n",
       "  </thead>\n",
       "  <tbody>\n",
       "    <tr>\n",
       "      <th>864</th>\n",
       "      <td>ターガスと言えば、PC関連、特にノートPCを収納しつつ機能性に富むビジネスバッグの定番と言え...</td>\n",
       "      <td>0</td>\n",
       "    </tr>\n",
       "    <tr>\n",
       "      <th>394</th>\n",
       "      <td>販促イベントや催事、展示即売会、運動会や体育祭、文化祭、音楽祭といった行事で統一感を出したい...</td>\n",
       "      <td>0</td>\n",
       "    </tr>\n",
       "  </tbody>\n",
       "</table>\n",
       "</div>"
      ],
      "text/plain": [
       "                                             sentences  labels\n",
       "864  ターガスと言えば、PC関連、特にノートPCを収納しつつ機能性に富むビジネスバッグの定番と言え...       0\n",
       "394  販促イベントや催事、展示即売会、運動会や体育祭、文化祭、音楽祭といった行事で統一感を出したい...       0"
      ]
     },
     "execution_count": 23,
     "metadata": {},
     "output_type": "execute_result"
    }
   ],
   "source": [
    "## 冒頭の2行を確認\n",
    "train_data.iloc[:2, :]"
   ]
  },
  {
   "cell_type": "markdown",
   "id": "bcf7a65c-3726-4ba7-b1dc-0e56f56604d9",
   "metadata": {},
   "source": [
    "次に、それぞれのデータを huggingface transformers の Trainer クラスに適用できるように加工します。\n",
    "\n"
   ]
  },
  {
   "cell_type": "code",
   "execution_count": 24,
   "id": "b969e1a5-2b4e-4182-8b96-4b652e89a177",
   "metadata": {},
   "outputs": [],
   "source": [
    "device = torch.device(\"cuda:0\" if torch.cuda.is_available() else \"cpu\")\n",
    "train_encodings = tokenizer(train_data['sentences'].tolist(),\n",
    "                            return_tensors='pt',\n",
    "                            padding=True, truncation=True,\n",
    "                            max_length=128).to(device)\n",
    "test_encodings = tokenizer(test_data['sentences'].tolist(),\n",
    "                           return_tensors='pt',\n",
    "                           padding=True, truncation=True,\n",
    "                           max_length=128).to(device)\n",
    "train_labels = torch.tensor(train_data['labels'].tolist())\n",
    "test_labels =  torch.tensor(test_data['labels'].tolist())"
   ]
  },
  {
   "cell_type": "markdown",
   "id": "105accba-b7dd-42e6-9a58-801768946daa",
   "metadata": {},
   "source": [
    "さて、これを **Dataset** というクラスのオブジェクトに変換します。このために、クラスを独自に定義します。\n"
   ]
  },
  {
   "cell_type": "code",
   "execution_count": 25,
   "id": "47722a93-a3d5-41be-92fb-19e7727f0d2a",
   "metadata": {},
   "outputs": [],
   "source": [
    "class LiveDoor_Dataset(torch.utils.data.Dataset):\n",
    "    def __init__(self, encodings, labels):\n",
    "        self.encodings = encodings\n",
    "        self.labels = labels\n",
    "\n",
    "    def __getitem__(self, idx):\n",
    "        item = {key: torch.tensor(val[idx]) for key, val in self.encodings.items()}\n",
    "        item['labels'] = self.labels[idx]\n",
    "        return item\n",
    "\n",
    "    def __len__(self):\n",
    "        return len(self.labels)\n",
    "\n",
    "## 実際にデータを変換する\n",
    "train_dataset = LiveDoor_Dataset(train_encodings, train_labels)\n",
    "test_dataset = LiveDoor_Dataset(test_encodings, test_labels)"
   ]
  },
  {
   "cell_type": "code",
   "execution_count": null,
   "id": "6c4b9d4a-aad2-4f51-bd0f-4496839ecfa9",
   "metadata": {},
   "outputs": [],
   "source": [
    "from transformers import AutoModelForSequenceClassification\n",
    "model = AutoModelForSequenceClassification.from_pretrained(    \n",
    "    japanese_model,\n",
    "    num_labels = 2, \n",
    "    output_attentions = False, \n",
    "    output_hidden_states = False\n",
    ")\n",
    "\n",
    "## モデルをGPUに載せる\n",
    "if torch.cuda.is_available():\n",
    "    model.cuda()"
   ]
  },
  {
   "cell_type": "markdown",
   "id": "96c220b7-8212-4845-bfbc-ff8a2a62ba0a",
   "metadata": {},
   "source": [
    "TrainingArguments クラスに学習の精度を評価するメソッドを指定するために定義をしておきます。\n",
    "**評価指標** とは、機械学習やディープラーニングにおいては、予測値あるいは分類の精度を検討するための基準のことです。\n",
    "\n",
    "- 正解率 (Accuracy)\n",
    "- 精度 (Precision)\n",
    "- 検出率 (Recall)\n",
    "- F 値 (F-measure, F-score, F1 Score)\n",
    "\n",
    "\n",
    "これらを説明するには **混同行列** を知っておく必要があります。\n",
    "\n",
    "|メール番号 | スパムか否か|予測結果 |\n",
    "|-------|---------|--------|\n",
    "|メール1 |0 | 0|\n",
    "|メール2 |0 | 1|\n",
    "|メール3 |0 | 0|\n",
    "|メール4 |0 | 0| \n",
    "|メール5 |1 | 1 |\n",
    "|メール6 |0 | 0 |\n",
    "|メール7 |1 | 1|\n",
    "|メール8 |1 | 1 |\n",
    "|メール9 |0 | 0 |\n",
    "|メール10 |1 | 1|\n",
    "\n",
    "\n"
   ]
  },
  {
   "cell_type": "code",
   "execution_count": 27,
   "id": "c0bebe62-63f5-4887-9966-12a561719bad",
   "metadata": {},
   "outputs": [
    {
     "name": "stdout",
     "output_type": "stream",
     "text": [
      "[[4 2]\n",
      " [1 3]]\n"
     ]
    }
   ],
   "source": [
    "from sklearn.metrics import confusion_matrix\n",
    "true_label = [0, 0, 0, 1, 0, 1, 1, 0, 1, 0]\n",
    "pred_label = [0, 0, 0, 1, 0, 1, 1, 1, 0, 1]\n",
    "cm = confusion_matrix(true_label, pred_label)\n",
    "print(cm)"
   ]
  },
  {
   "cell_type": "markdown",
   "id": "87fd95e0-521a-499b-8ad6-e0c960fa3055",
   "metadata": {},
   "source": [
    "具体的には以下のような表になります。\n",
    "\n",
    "\n",
    "|        |分類結果        |             |\n",
    "|--------|-------------|--------------|\n",
    "|        |　スパム(1)と分類 | スパム(0)と分類　|\n",
    "|実際     |　            |            　|\n",
    "|スパム(1) |      4      |       2     |\n",
    "|非スパム(0)|      1      |      3       |\n",
    "\n",
    "\n",
    "\n",
    "さて、混同行列では、各セルが次の評価に対応します。\n",
    "\n",
    "\n",
    "\n",
    "|     |分類結果|    |\n",
    "|--------|-------------|--------------|\n",
    "|     |　陽性    | 陰性　         |\n",
    "|実際  |　       |    　         |\n",
    "| 陽性 | TP 真陽性 |   FN 真陰性|\n",
    "| 陰性 | FP 偽陽性 |  TF 真陰性 |\n",
    "\n",
    "\n",
    "- TP (True-Positive) 真陽性： 本当は陽性（スパム）であるメールを、正しく陽性と判定\n",
    "- TN (True-Negative) 真陰性：本当は陰性（非スパム）を、正しく陰性と判定\n",
    "- FP (False-Positive) 偽陽性： 本当は陰性であるメールを、誤って陽性と判定\n",
    "- FN (False-Negative) 偽陰性： 本当は陽性であるメールを、誤って陰性と判定\n",
    "\n",
    "\n",
    "\n",
    "それぞれの個数は次のように求められます。\n"
   ]
  },
  {
   "cell_type": "code",
   "execution_count": 28,
   "id": "c3ef164d-927c-4f8f-a877-cf613da40075",
   "metadata": {},
   "outputs": [
    {
     "name": "stdout",
     "output_type": "stream",
     "text": [
      "(4, 2, 1, 3)\n"
     ]
    }
   ],
   "source": [
    "tp, fn, fp, tn = cm.ravel()\n",
    "print((tp, fn, fp, tn))"
   ]
  },
  {
   "cell_type": "code",
   "execution_count": 29,
   "id": "d97b373e-2fdb-4969-8db2-9b9f7d25389f",
   "metadata": {},
   "outputs": [
    {
     "name": "stdout",
     "output_type": "stream",
     "text": [
      "正解率: 0.7\n",
      "適合率: 0.6\n",
      "感度: 0.75\n",
      "F 値: 0.6666666666666665\n"
     ]
    }
   ],
   "source": [
    "from sklearn.metrics import accuracy_score\n",
    "from sklearn.metrics import precision_score\n",
    "from sklearn.metrics import recall_score\n",
    "from sklearn.metrics import f1_score\n",
    "\n",
    "print(f'正解率: {accuracy_score(true_label, pred_label)}')\n",
    "print(f'適合率: {precision_score(true_label, pred_label)}')\n",
    "print(f'感度: {recall_score(true_label, pred_label)}')\n",
    "print(f'F 値: {f1_score(true_label, pred_label)}')"
   ]
  },
  {
   "cell_type": "markdown",
   "id": "99ace201-86b9-44bf-bd4e-96428e218eae",
   "metadata": {},
   "source": [
    "なお、正解率、適応率、F値を一度に求められる `precision_recall_fscore_support` というメソッドもあります。"
   ]
  },
  {
   "cell_type": "code",
   "execution_count": 30,
   "id": "fcd2c7b0-a224-40de-b0f8-2a03fa857d44",
   "metadata": {},
   "outputs": [],
   "source": [
    "from sklearn.metrics import accuracy_score, precision_recall_fscore_support\n",
    "## 4 つの指標を計算する関数を定義\n",
    "def cal_4metrics(pred):\n",
    "    labels = pred.label_ids\n",
    "    preds = pred.predictions.argmax(-1)\n",
    "    precision, recall, f1, _ = precision_recall_fscore_support(labels, preds, average='weighted', zero_division=0)\n",
    "    acc = accuracy_score(labels, preds)\n",
    "    return {\n",
    "        'accuracy': acc,\n",
    "        'f1': f1,\n",
    "        'precision': precision,\n",
    "        'recall': recall\n",
    "    }"
   ]
  },
  {
   "cell_type": "markdown",
   "id": "a1aa31f3-8eef-450f-a967-6ec211ae5e58",
   "metadata": {},
   "source": [
    "データまた評価指標の用意ができたので、Trainer クラスを使って学習を行います\n",
    "ここでは、パソコンにあまり負荷をかけず、早期に学習が終了することを優先した設定としています。"
   ]
  },
  {
   "cell_type": "code",
   "execution_count": null,
   "id": "7b36eff4-a3f7-453b-8353-44a51ced7101",
   "metadata": {},
   "outputs": [],
   "source": [
    "from transformers import Trainer, TrainingArguments\n",
    "\n",
    "training_args = TrainingArguments(\n",
    "    output_dir='./results', \n",
    "    num_train_epochs=1, \n",
    "    per_device_train_batch_size=16, \n",
    "    per_device_eval_batch_size=64, \n",
    "    warmup_steps=500,  \n",
    "    weight_decay=0.01, \n",
    "    save_total_limit=1, \n",
    "    load_best_model_at_end=True,\n",
    "    dataloader_pin_memory=False, \n",
    "    evaluation_strategy=\"steps\",\n",
    "    logging_steps=50,\n",
    "    logging_dir='./logs'\n",
    ")\n",
    "\n",
    "trainer = Trainer(\n",
    "    model=model, \n",
    "    args=training_args,\n",
    "    train_dataset=train_dataset,\n",
    "    eval_dataset=test_dataset, \n",
    "    compute_metrics=cal_4metrics \n",
    ")\n",
    "\n",
    "trainer.train()"
   ]
  },
  {
   "cell_type": "markdown",
   "id": "dbc08bea-67ef-414c-8c54-5fb0b459460a",
   "metadata": {},
   "source": [
    "取り除けておいたテストデータを評価します。"
   ]
  },
  {
   "cell_type": "code",
   "execution_count": null,
   "id": "285314f8-ad66-4067-b39f-c908bf1c3a13",
   "metadata": {},
   "outputs": [],
   "source": [
    "print(trainer.evaluate(eval_dataset=test_dataset))"
   ]
  },
  {
   "cell_type": "markdown",
   "id": "be9f7506-72bc-493c-9c01-9d865834a85a",
   "metadata": {},
   "source": [
    "上記のテストデータの評価結果を見ると、accuracy が 0.92 F1 score が 0.92 となりました。\n",
    "\n",
    "ファインチューニングしたモデルは以下のように保存することができます。"
   ]
  },
  {
   "cell_type": "code",
   "execution_count": 33,
   "id": "161332bf-a05f-427f-b615-6a147058cc48",
   "metadata": {},
   "outputs": [
    {
     "name": "stderr",
     "output_type": "stream",
     "text": [
      "tokenizer config file saved in ./LiveDoor_model/tokenizer_config.json\n",
      "Special tokens file saved in ./LiveDoor_model/special_tokens_map.json\n",
      "Configuration saved in ./LiveDoor_model/config.json\n",
      "Model weights saved in ./LiveDoor_model/pytorch_model.bin\n"
     ]
    }
   ],
   "source": [
    "model_directory = './LiveDoor_model'\n",
    "# %%script false --no-raise-error\n",
    "tokenizer.save_pretrained(model_directory)\n",
    "model.save_pretrained(model_directory)"
   ]
  },
  {
   "cell_type": "markdown",
   "metadata": {},
   "source": [
    "あるいは同じことになりますが、以下のようにしても保存できます"
   ]
  },
  {
   "cell_type": "code",
   "execution_count": null,
   "metadata": {},
   "outputs": [],
   "source": [
    "model_directory = './LiveDoor_model'\n",
    "tokenizer.save_model(model_directory)"
   ]
  },
  {
   "cell_type": "markdown",
   "id": "0f6bf1f0-1603-4163-8925-ebe2c9ab3f7d",
   "metadata": {},
   "source": [
    "保存したモデルを読み込む場合には以下のようにします。\n"
   ]
  },
  {
   "cell_type": "code",
   "execution_count": null,
   "id": "5356479a-d9fb-4dfb-be4c-3ac15977f447",
   "metadata": {},
   "outputs": [],
   "source": [
    "from transformers import AutoModelForSequenceClassification\n",
    "model_directory = './LiveDoor_model'\n",
    "model2 = AutoModelForSequenceClassification.from_pretrained(model_directory)    "
   ]
  },
  {
   "cell_type": "markdown",
   "id": "1d7fc6f4-d807-4045-a395-3ed2ae0b5e88",
   "metadata": {},
   "source": [
    "## まとめ\n",
    "\n",
    "以上、 huggingface-transformers による自然言語処理の実行例を示しました。\n",
    "最初にも述べたように、ディープラーニングに基づくライブラリは更新が早く、現在のバージョンでは動作したコードであっても、しばらく後には期待通りの出力が得られないということが多々あります。\n",
    "そのため、利用するつど最新バージョンにおける関数の定義などを確認する必要があります。\n",
    "\n",
    "その一方で、ディープラーニングに基づく最新の自然言語処理技術を反映した huggingface-transformers はしばらくの間、デファクトスタンダードの地位を維持すると予想されます。\n",
    "関数などの仕様の変更は続くと思われますが、その考え方や処理の流れが大きく変化することは当面ないかもしれません。\n",
    "\n"
   ]
  }
 ],
 "metadata": {
  "kernelspec": {
   "display_name": "Python 3 (ipykernel)",
   "language": "python",
   "name": "python3"
  },
  "language_info": {
   "codemirror_mode": {
    "name": "ipython",
    "version": 3
   },
   "file_extension": ".py",
   "mimetype": "text/x-python",
   "name": "python",
   "nbconvert_exporter": "python",
   "pygments_lexer": "ipython3",
   "version": "3.8.10"
  },
  "name": "Chapter12_transformer.ipynb",
  "vscode": {
   "interpreter": {
    "hash": "8c1cc9189a8cb268605973668f4dacfb44b0c3a77a6199cbbf771dd310aadae0"
   }
  }
 },
 "nbformat": 4,
 "nbformat_minor": 5
}
